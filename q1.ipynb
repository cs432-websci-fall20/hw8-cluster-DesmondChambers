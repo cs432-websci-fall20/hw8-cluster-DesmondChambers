{
 "cells": [
  {
   "cell_type": "code",
   "execution_count": 87,
   "metadata": {},
   "outputs": [],
   "source": [
    "import tweepy\n",
    "import webbrowser\n",
    "import time\n",
    "import re\n",
    "import requests\n",
    "import numpy\n",
    "import csv\n",
    "import pandas as pd\n",
    "from matplotlib import pyplot as plt"
   ]
  },
  {
   "cell_type": "code",
   "execution_count": 88,
   "metadata": {},
   "outputs": [
    {
     "name": "stdout",
     "output_type": "stream",
     "text": [
      "whats is the pin? 1990104\n"
     ]
    }
   ],
   "source": [
    "consumer_key = \"7ZOCRSoDj7s98J1rIoKNEfaC8\"\n",
    "consumer_secret_key = \"VpuPG2kLwF9b63ryupu3lLrcS01Wi3IDfsZLX7xNdv0HVwLvzC\"\n",
    "callback_uri ='oob'\n",
    "\n",
    "auth = tweepy.OAuthHandler(consumer_key, consumer_secret_key, callback_uri)\n",
    "redirect_url = auth.get_authorization_url()\n",
    "\n",
    "webbrowser.open(redirect_url)\n",
    "\n",
    "user_pin_input = input(\"whats is the pin? \")\n",
    "\n",
    "auth.get_access_token(user_pin_input)\n",
    "\n",
    "api = tweepy.API(auth, wait_on_rate_limit=True)"
   ]
  },
  {
   "cell_type": "code",
   "execution_count": 101,
   "metadata": {},
   "outputs": [
    {
     "name": "stdout",
     "output_type": "stream",
     "text": [
      "tweets from @Wale saved\n",
      "tweets from @AdamSchefter saved\n",
      "tweets from @chrisrock saved\n",
      "tweets from @JamesFrancoTV saved\n",
      "tweets from @Schwarzenegger saved\n"
     ]
    }
   ],
   "source": [
    "def get_all_tweets(screen_name):\n",
    "    with open(f\"./tweets/{screen_name}_tweets.txt\", \"w\") as file1: \n",
    "        for i, status in enumerate(tweepy.Cursor(api.user_timeline, screen_name=screen_name).items(200)):\n",
    "            #print(i, status.text)\n",
    "            file1.write(status.text)\n",
    "            file1.write('\\n')\n",
    "        print(\"tweets from {} saved\" .format(screen_name))\n",
    "\n",
    "\n",
    "if __name__ == '__main__':\n",
    "\t\n",
    "    # Using readlines() \n",
    "    file1 = open('screen_names-Copy1.txt', 'r') \n",
    "    Lines = file1.readlines() \n",
    "  \n",
    "    count = 0\n",
    "    # Strips the newline character \n",
    "    for line in Lines: \n",
    "        #pass in the username of the account you want to download\n",
    "        get_all_tweets(\"{}\".format(line.strip()))"
   ]
  },
  {
   "cell_type": "code",
   "execution_count": 103,
   "metadata": {},
   "outputs": [
    {
     "name": "stdout",
     "output_type": "stream",
     "text": [
      "some\\x00string.<> with\\x15 funny characters\n",
      "some\\x00string.<> with\\x15 funny characters\n"
     ]
    }
   ],
   "source": [
    "import string\n",
    "def remove(text):\n",
    "    string_with_nonASCII = text\n",
    "\n",
    "    encoded_string = string_with_nonASCII.encode(\"ascii\", \"ignore\")\n",
    "    decode_string = encoded_string.decode()\n",
    "\n",
    "    print(decode_string)\n",
    "\n",
    "\n",
    "if __name__ == '__main__':\n",
    "\n",
    "    file1 = open('test.txt', 'r') \n",
    "    Lines = file1.readlines() \n",
    "    printable = set(string.printable) \n",
    "    count = 0\n",
    "    test = []\n",
    "    # Strips the newline character \n",
    "    for line in Lines:\n",
    "        remove(\"{}\".format(line.strip()))"
   ]
  },
  {
   "cell_type": "code",
   "execution_count": 104,
   "metadata": {},
   "outputs": [
    {
     "name": "stdout",
     "output_type": "stream",
     "text": [
      "some\u0000string. with\u0015 funny characters\n"
     ]
    }
   ],
   "source": [
    "s = \"some\\x00string.<> with\\x15 funny characters\"\n",
    "import string\n",
    "printable = set(string.printable)\n",
    "filter(lambda x: x in printable, s)\n",
    "''.join(filter(lambda x: x in printable, s))\n",
    "s = s.replace('<','')\n",
    "s = s.replace('>','')\n",
    "print(s)"
   ]
  },
  {
   "cell_type": "code",
   "execution_count": 116,
   "metadata": {},
   "outputs": [
    {
     "name": "stdout",
     "output_type": "stream",
     "text": [
      "some\\x00string. with\\x15 funny characters\n",
      "\n",
      "some\\x00string. with\\x15 funny characters\n"
     ]
    }
   ],
   "source": [
    "def test(text):   \n",
    "    s = text\n",
    "    import string\n",
    "    printable = set(string.printable)\n",
    "    filter(lambda x: x in printable, s)\n",
    "    ''.join(filter(lambda x: x in printable, s))\n",
    "    s = s.replace('<','')\n",
    "    s = s.replace('>','')\n",
    "    print(s)\n",
    "    \n",
    "if __name__ == '__main__':\n",
    "\n",
    "    file1 = open('test.txt', 'r') \n",
    "    Lines = file1.readlines() \n",
    "\n",
    "    # Strips the newline character \n",
    "    for line in Lines:\n",
    "        test(line)\n",
    "    "
   ]
  },
  {
   "cell_type": "code",
   "execution_count": 112,
   "metadata": {},
   "outputs": [
    {
     "data": {
      "text/plain": [
       "'some\\x00string.<> with\\x15 funny characters'"
      ]
     },
     "execution_count": 112,
     "metadata": {},
     "output_type": "execute_result"
    }
   ],
   "source": [
    "s = \"some\\x00string.<> with\\x15 funny characters\"\n",
    "''.join([i if ord(i) < 128 else ' ' for i in s])"
   ]
  },
  {
   "cell_type": "code",
   "execution_count": 113,
   "metadata": {},
   "outputs": [],
   "source": [
    "#!/usr/bin/env python\n",
    "nonascii = bytearray(range(0x80, 0x100))\n",
    "with open('test.txt','rb') as infile, open('d_parsed.txt','wb') as outfile:\n",
    "    for line in infile: # b'\\n'-separated lines (Linux, OSX, Windows)\n",
    "        outfile.write(line.translate(None, nonascii))\n"
   ]
  },
  {
   "cell_type": "code",
   "execution_count": 105,
   "metadata": {},
   "outputs": [
    {
     "name": "stdout",
     "output_type": "stream",
     "text": [
      "<filter object at 0x7ff8aca56c70>\n"
     ]
    }
   ],
   "source": [
    "def onlyascii(char):\n",
    "    if ord(char) < 48 or ord(char) > 127: return ''\n",
    "    else: return char\n",
    "\n",
    "f=open('test.txt','r')\n",
    "data=f.read()\n",
    "f.close()\n",
    "filtered_data=filter(onlyascii, data)\n",
    "print(filtered_data)"
   ]
  },
  {
   "cell_type": "code",
   "execution_count": 106,
   "metadata": {},
   "outputs": [
    {
     "name": "stdout",
     "output_type": "stream",
     "text": [
      "After removing Hashtags,URLs and Styles the tweet is:-\n",
      "some\\x00string.<> with\\x15 funny characters\n",
      "\n",
      "After removing Hashtags,URLs and Styles the tweet is:-\n",
      "some\\x00string.<> with\\x15 funny characters\n"
     ]
    }
   ],
   "source": [
    "tweet=\"I enjoyd the event which took place yesteday & I lovdddd itttt ! The link to the show is http://t.co/4ftYom0i It's awesome you'll luv it #HadFun #Enjoyed BFN GN\"  \n",
    "#library for regular expressions \n",
    "import re\t \n",
    "\n",
    "\n",
    "file1 = open('test.txt', 'r') \n",
    "Lines = file1.readlines() \n",
    "printable = set(string.printable) \n",
    "count = 0\n",
    "test = []\n",
    "# Strips the newline character \n",
    "for line in Lines:\n",
    "    # remove hyperlinks \n",
    "    tweet = re.sub(r'https?:\\/\\/.\\S+', \"\", line) \n",
    "\n",
    "    # remove hashtags \n",
    "    # only removing the hash # sign from the word \n",
    "    tweet = re.sub(r'#', '', tweet) \n",
    "\n",
    "    # remove old style retweet text \"RT\" \n",
    "    tweet = re.sub(r'^RT[\\s]+', '', tweet) \n",
    "\n",
    "    print(\"After removing Hashtags,URLs and Styles the tweet is:-\\n{}\".format(tweet))\n"
   ]
  },
  {
   "cell_type": "code",
   "execution_count": null,
   "metadata": {},
   "outputs": [],
   "source": []
  }
 ],
 "metadata": {
  "kernelspec": {
   "display_name": "Python 3",
   "language": "python",
   "name": "python3"
  },
  "language_info": {
   "codemirror_mode": {
    "name": "ipython",
    "version": 3
   },
   "file_extension": ".py",
   "mimetype": "text/x-python",
   "name": "python",
   "nbconvert_exporter": "python",
   "pygments_lexer": "ipython3",
   "version": "3.8.5"
  }
 },
 "nbformat": 4,
 "nbformat_minor": 4
}
