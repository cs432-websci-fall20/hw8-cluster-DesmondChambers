{
 "cells": [
  {
   "cell_type": "code",
   "execution_count": 1,
   "metadata": {},
   "outputs": [],
   "source": [
    "from PIL import Image, ImageDraw\n",
    "#import Image, ImageDraw\n",
    "from math import sqrt\n",
    "import random\n",
    "import csv"
   ]
  },
  {
   "cell_type": "code",
   "execution_count": 2,
   "metadata": {},
   "outputs": [],
   "source": [
    "def readfile(filename):\n",
    "    # This is a function that I wrote from scratch   -MCW\n",
    "    data = []\n",
    "    rownames = []\n",
    "    colnames = []\n",
    "    num_rows = 0\n",
    "    with open(filename) as tsvfile:\n",
    "        reader = csv.reader(tsvfile, delimiter='\\t')\n",
    "        for row in reader:\n",
    "            if num_rows > 0:\n",
    "                rownames.append(row[0])    # save the row names\n",
    "                data.append([float(x) for x in row[1:]])  # save the values as floats\n",
    "            else:\n",
    "                for col in row[1:]:\n",
    "                    colnames.append(col)    # save the column names\n",
    "            num_rows = num_rows + 1\n",
    "    return (rownames, colnames, data)"
   ]
  },
  {
   "cell_type": "code",
   "execution_count": 3,
   "metadata": {},
   "outputs": [],
   "source": [
    "def pearson(v1, v2):\n",
    "  # Simple sums\n",
    "    sum1 = sum(v1)\n",
    "    sum2 = sum(v2)\n",
    "\n",
    "  # Sums of the squares\n",
    "    sum1Sq = sum([pow(v, 2) for v in v1])\n",
    "    sum2Sq = sum([pow(v, 2) for v in v2])\n",
    "\n",
    "  # Sum of the products\n",
    "    pSum = sum([v1[i] * v2[i] for i in range(len(v1))])\n",
    "\n",
    "  # Calculate r (Pearson score)\n",
    "    num = pSum - sum1 * sum2 / len(v1)\n",
    "    den = sqrt((sum1Sq - pow(sum1, 2) / len(v1)) * (sum2Sq - pow(sum2, 2)\n",
    "               / len(v1)))\n",
    "    if den == 0:\n",
    "        return 0\n",
    "\n",
    "    return 1.0 - num / den"
   ]
  },
  {
   "cell_type": "code",
   "execution_count": 4,
   "metadata": {},
   "outputs": [],
   "source": [
    "def rotatematrix(data):\n",
    "    newdata = []\n",
    "    for i in range(len(data[0])):\n",
    "        newrow = [data[j][i] for j in range(len(data))]\n",
    "        newdata.append(newrow)\n",
    "    return newdata"
   ]
  },
  {
   "cell_type": "code",
   "execution_count": 5,
   "metadata": {},
   "outputs": [],
   "source": [
    "class bicluster:\n",
    "\n",
    "    def __init__(self, vec, left=None, right=None, distance=0.0, id=None,):\n",
    "        self.left = left\n",
    "        self.right = right\n",
    "        self.vec = vec\n",
    "        self.id = id\n",
    "        self.distance = distance"
   ]
  },
  {
   "cell_type": "code",
   "execution_count": 6,
   "metadata": {},
   "outputs": [],
   "source": [
    "\n",
    "def hcluster(rows, distance=pearson):\n",
    "    distances = {}\n",
    "    currentclustid = -1\n",
    "\n",
    "  # Clusters are initially just the rows\n",
    "    clust = [bicluster(rows[i], id=i) for i in range(len(rows))]\n",
    "\n",
    "    while len(clust) > 1:\n",
    "        lowestpair = (0, 1)\n",
    "        closest = distance(clust[0].vec, clust[1].vec)\n",
    "\n",
    "    # loop through every pair looking for the smallest distance\n",
    "        for i in range(len(clust)):\n",
    "            for j in range(i + 1, len(clust)):\n",
    "        # distances is the cache of distance calculations\n",
    "                if (clust[i].id, clust[j].id) not in distances:\n",
    "                    distances[(clust[i].id, clust[j].id)] = \\\n",
    "                        distance(clust[i].vec, clust[j].vec)\n",
    "\n",
    "                d = distances[(clust[i].id, clust[j].id)]\n",
    "\n",
    "                if d < closest:\n",
    "                    closest = d\n",
    "                    lowestpair = (i, j)\n",
    "\n",
    "    # calculate the average of the two clusters\n",
    "        mergevec = [(clust[lowestpair[0]].vec[i] + clust[lowestpair[1]].vec[i])\n",
    "                    / 2.0 for i in range(len(clust[0].vec))]\n",
    "\n",
    "    # create the new cluster\n",
    "        newcluster = bicluster(mergevec, left=clust[lowestpair[0]],\n",
    "                               right=clust[lowestpair[1]], distance=closest,\n",
    "                               id=currentclustid)\n",
    "\n",
    "    # cluster ids that weren't in the original set are negative\n",
    "        currentclustid -= 1\n",
    "        del clust[lowestpair[1]]\n",
    "        del clust[lowestpair[0]]\n",
    "        clust.append(newcluster)\n",
    "\n",
    "    return clust[0]"
   ]
  },
  {
   "cell_type": "code",
   "execution_count": 7,
   "metadata": {},
   "outputs": [],
   "source": [
    "def printclust(clust, labels=None, n=0):\n",
    "  # indent to make a hierarchy layout\n",
    "    for i in range(n):\n",
    "        print (' ', end =\" \")\n",
    "    if clust.id < 0:\n",
    "    # negative id means that this is branch\n",
    "        print ('-')\n",
    "    else:\n",
    "    # positive id means that this is an endpoint\n",
    "        if labels == None:\n",
    "            print (clust.id)\n",
    "        else:\n",
    "            print (labels[clust.id])\n",
    "\n",
    "  # now print the right and left branches\n",
    "    if clust.left != None:\n",
    "        printclust(clust.left, labels=labels, n=n + 1)\n",
    "    if clust.right != None:\n",
    "        printclust(clust.right, labels=labels, n=n + 1)"
   ]
  },
  {
   "cell_type": "code",
   "execution_count": 8,
   "metadata": {},
   "outputs": [],
   "source": [
    "blognames, words, data = readfile(\"tweetdata.txt\")"
   ]
  },
  {
   "cell_type": "code",
   "execution_count": 9,
   "metadata": {},
   "outputs": [
    {
     "data": {
      "text/plain": [
       "['chrisbrown_tweets',\n",
       " 'jimmyfallon_tweets',\n",
       " 'BrunoMars_tweets',\n",
       " 'MariahCarey_tweets',\n",
       " 'BBCWorld_tweets']"
      ]
     },
     "execution_count": 9,
     "metadata": {},
     "output_type": "execute_result"
    }
   ],
   "source": [
    "blognames[:5]"
   ]
  },
  {
   "cell_type": "code",
   "execution_count": 10,
   "metadata": {},
   "outputs": [
    {
     "data": {
      "text/plain": [
       "[1.0, 1.0, 1.0, 1.0, 1.0]"
      ]
     },
     "execution_count": 10,
     "metadata": {},
     "output_type": "execute_result"
    }
   ],
   "source": [
    "data[2][:5]"
   ]
  },
  {
   "cell_type": "code",
   "execution_count": 11,
   "metadata": {},
   "outputs": [],
   "source": [
    "clust = hcluster(data)"
   ]
  },
  {
   "cell_type": "code",
   "execution_count": 12,
   "metadata": {},
   "outputs": [
    {
     "name": "stdout",
     "output_type": "stream",
     "text": [
      "-\n",
      "  -\n",
      "    -\n",
      "      -\n",
      "        BBCWorld_tweets\n",
      "        -\n",
      "          -\n",
      "            BarackObama_tweets\n",
      "            -\n",
      "              Tip_tweets\n",
      "              -\n",
      "                SportsCenter_tweets\n",
      "                kourtneykardash_tweets\n",
      "          -\n",
      "            johnlegend_tweets\n",
      "            -\n",
      "              HillaryClinton_tweets\n",
      "              RealLamarOdom_tweets\n",
      "      -\n",
      "        -\n",
      "          -\n",
      "            CNN_tweets\n",
      "            -\n",
      "              Reuters_tweets\n",
      "              YouTube_tweets\n",
      "          -\n",
      "            -\n",
      "              -\n",
      "                Akon_tweets\n",
      "                Ludacris_tweets\n",
      "              -\n",
      "                NFL_tweets\n",
      "                -\n",
      "                  NASA_tweets\n",
      "                  JLo_tweets\n",
      "            -\n",
      "              -\n",
      "                serenawilliams_tweets\n",
      "                khloekardashian_tweets\n",
      "              -\n",
      "                -\n",
      "                  MichelleObama_tweets\n",
      "                  katyperry_tweets\n",
      "                -\n",
      "                  instagram_tweets\n",
      "                  50cent_tweets\n",
      "        -\n",
      "          -\n",
      "            -\n",
      "              -\n",
      "                AdamSchefter_tweets\n",
      "                -\n",
      "                  Harry_Styles_tweets\n",
      "                  pitbull_tweets\n",
      "              -\n",
      "                Oprah_tweets\n",
      "                -\n",
      "                  -\n",
      "                    PerezHilton_tweets\n",
      "                    NICKIMINAJ_tweets\n",
      "                  -\n",
      "                    espn_tweets\n",
      "                    KimKardashian_tweets\n",
      "            -\n",
      "              -\n",
      "                jimmykimmel_tweets\n",
      "                -\n",
      "                  ladygaga_tweets\n",
      "                  Google_tweets\n",
      "              -\n",
      "                cnnbrk_tweets\n",
      "                -\n",
      "                  -\n",
      "                    nickjonas_tweets\n",
      "                    -\n",
      "                      chrisrock_tweets\n",
      "                      MileyCyrus_tweets\n",
      "                  -\n",
      "                    IGGYAZALEA_tweets\n",
      "                    joejonas_tweets\n",
      "          -\n",
      "            -\n",
      "              -\n",
      "                Schwarzenegger_tweets\n",
      "                NBA_tweets\n",
      "              -\n",
      "                nytimes_tweets\n",
      "                tomhanks_tweets\n",
      "            -\n",
      "              -\n",
      "                IAMQUEENLATIFAH_tweets\n",
      "                -\n",
      "                  aliciakeys_tweets\n",
      "                  -\n",
      "                    MesutOzil1088_tweets\n",
      "                    -\n",
      "                      NeYoCompound_tweets\n",
      "                      -\n",
      "                        KevinHart4real_tweets\n",
      "                        BigSean_tweets\n",
      "              -\n",
      "                -\n",
      "                  JessicaSimpson_tweets\n",
      "                  -\n",
      "                    kanyewest_tweets\n",
      "                    -\n",
      "                      DwightHoward_tweets\n",
      "                      -\n",
      "                        TreySongz_tweets\n",
      "                        onedirection_tweets\n",
      "                -\n",
      "                  ManUtd_tweets\n",
      "                  -\n",
      "                    wizkhalifa_tweets\n",
      "                    -\n",
      "                      TheEconomist_tweets\n",
      "                      britneyspears_tweets\n",
      "    -\n",
      "      chrisbrown_tweets\n",
      "      -\n",
      "        jimmyfallon_tweets\n",
      "        -\n",
      "          BrunoMars_tweets\n",
      "          MariahCarey_tweets\n",
      "  -\n",
      "    -\n",
      "      BBCBreaking_tweets\n",
      "      Pharrell_tweets\n",
      "    -\n",
      "      -\n",
      "        -\n",
      "          coldplay_tweets\n",
      "          selenagomez_tweets\n",
      "        -\n",
      "          -\n",
      "            -\n",
      "              -\n",
      "                Eminem_tweets\n",
      "                -\n",
      "                  ConanOBrien_tweets\n",
      "                  JColeNC_tweets\n",
      "              -\n",
      "                TomCruise_tweets\n",
      "                -\n",
      "                  Tyga_tweets\n",
      "                  TheEllenShow_tweets\n",
      "            -\n",
      "              -\n",
      "                NatGeo_tweets\n",
      "                kendricklamar_tweets\n",
      "              -\n",
      "                KylieJenner_tweets\n",
      "                -\n",
      "                  ActuallyNPH_tweets\n",
      "                  -\n",
      "                    Pink_tweets\n",
      "                    Adele_tweets\n",
      "          -\n",
      "            -\n",
      "              LilTunechi_tweets\n",
      "              -\n",
      "                -\n",
      "                  EmmaWatson_tweets\n",
      "                  KingJames_tweets\n",
      "                -\n",
      "                  -\n",
      "                    elonmusk_tweets\n",
      "                    rihanna_tweets\n",
      "                  -\n",
      "                    zaynmalik_tweets\n",
      "                    -\n",
      "                      Usher_tweets\n",
      "                      blakeshelton_tweets\n",
      "            -\n",
      "              KendallJenner_tweets\n",
      "              -\n",
      "                ArianaGrande_tweets\n",
      "                -\n",
      "                  realDonaldTrump_tweets\n",
      "                  Louis_Tomlinson_tweets\n",
      "      -\n",
      "        -\n",
      "          premierleague_tweets\n",
      "          kobebryant_tweets\n",
      "        -\n",
      "          SHAQ_tweets\n",
      "          -\n",
      "            -\n",
      "              FloydMayweather_tweets\n",
      "              BillGates_tweets\n",
      "            -\n",
      "              jtimberlake_tweets\n",
      "              POTUS_tweets\n"
     ]
    }
   ],
   "source": [
    "printclust(clust, labels=blognames)"
   ]
  },
  {
   "cell_type": "code",
   "execution_count": 13,
   "metadata": {},
   "outputs": [],
   "source": [
    "def kcluster(rows, distance=pearson, k=4):\n",
    "  # Determine the minimum and maximum values for each point\n",
    "    ranges = [(min([row[i] for row in rows]), max([row[i] for row in rows]))\n",
    "              for i in range(len(rows[0]))]\n",
    "\n",
    "  # Create k randomly placed centroids\n",
    "    clusters = [[random.random() * (ranges[i][1] - ranges[i][0]) + ranges[i][0]\n",
    "                for i in range(len(rows[0]))] for j in range(k)]\n",
    "\n",
    "    lastmatches = None\n",
    "    for t in range(100):\n",
    "        print ('Iteration %d' % t)\n",
    "        bestmatches = [[] for i in range(k)]\n",
    "\n",
    "    # Find which centroid is the closest for each row\n",
    "        for j in range(len(rows)):\n",
    "            row = rows[j]\n",
    "            bestmatch = 0\n",
    "            for i in range(k):\n",
    "                d = distance(clusters[i], row)\n",
    "                if d < distance(clusters[bestmatch], row):\n",
    "                    bestmatch = i\n",
    "            bestmatches[bestmatch].append(j)\n",
    "\n",
    "    # If the results are the same as last time, this is complete\n",
    "        if bestmatches == lastmatches:\n",
    "            break\n",
    "        lastmatches = bestmatches\n",
    "\n",
    "    # Move the centroids to the average of their members\n",
    "        for i in range(k):\n",
    "            avgs = [0.0] * len(rows[0])\n",
    "            if len(bestmatches[i]) > 0:\n",
    "                for rowid in bestmatches[i]:\n",
    "                    for m in range(len(rows[rowid])):\n",
    "                        avgs[m] += rows[rowid][m]\n",
    "                for j in range(len(avgs)):\n",
    "                    avgs[j] /= len(bestmatches[i])\n",
    "                clusters[i] = avgs\n",
    "\n",
    "    return bestmatches"
   ]
  },
  {
   "cell_type": "code",
   "execution_count": 14,
   "metadata": {},
   "outputs": [
    {
     "name": "stdout",
     "output_type": "stream",
     "text": [
      "Iteration 0\n",
      "Iteration 1\n",
      "Iteration 2\n",
      "Iteration 3\n",
      "Iteration 4\n",
      "Iteration 5\n",
      "Iteration 6\n"
     ]
    }
   ],
   "source": [
    "kclust = kcluster(data, k=10)"
   ]
  },
  {
   "cell_type": "code",
   "execution_count": 15,
   "metadata": {},
   "outputs": [
    {
     "data": {
      "text/plain": [
       "[71, 72, 73, 74, 75, 76, 77, 78, 79, 80, 81, 82, 83, 84]"
      ]
     },
     "execution_count": 15,
     "metadata": {},
     "output_type": "execute_result"
    }
   ],
   "source": [
    "kclust[0]"
   ]
  },
  {
   "cell_type": "code",
   "execution_count": 16,
   "metadata": {},
   "outputs": [
    {
     "name": "stdout",
     "output_type": "stream",
     "text": [
      "cluster  1 :  14\n",
      "cluster  2 :  2\n",
      "cluster  3 :  0\n",
      "cluster  4 :  12\n",
      "cluster  5 :  16\n",
      "cluster  6 :  12\n",
      "cluster  7 :  7\n",
      "cluster  8 :  9\n",
      "cluster  9 :  0\n",
      "cluster  10 :  25\n"
     ]
    }
   ],
   "source": [
    "for i in range(len(kclust)):\n",
    "  print (\"cluster \", i+1, \": \", len(kclust[i]))"
   ]
  },
  {
   "cell_type": "code",
   "execution_count": 17,
   "metadata": {},
   "outputs": [
    {
     "name": "stdout",
     "output_type": "stream",
     "text": [
      "Iteration 0\n",
      "Iteration 1\n",
      "Iteration 2\n",
      "Iteration 3\n",
      "Iteration 4\n",
      "Iteration 5\n",
      "cluster  1 :  4\n",
      "cluster  2 :  36\n",
      "cluster  3 :  26\n",
      "cluster  4 :  26\n",
      "cluster  5 :  5\n"
     ]
    }
   ],
   "source": [
    "kclust = kcluster(data, k=5)\n",
    "for i in range(len(kclust)):\n",
    "  print (\"cluster \", i+1, \": \", len(kclust[i]))"
   ]
  },
  {
   "cell_type": "code",
   "execution_count": 18,
   "metadata": {},
   "outputs": [
    {
     "name": "stdout",
     "output_type": "stream",
     "text": [
      "Iteration 0\n",
      "Iteration 1\n",
      "Iteration 2\n",
      "Iteration 3\n",
      "Iteration 4\n",
      "Iteration 5\n",
      "Iteration 6\n",
      "cluster  1 :  8\n",
      "cluster  2 :  0\n",
      "cluster  3 :  0\n",
      "cluster  4 :  0\n",
      "cluster  5 :  13\n",
      "cluster  6 :  0\n",
      "cluster  7 :  0\n",
      "cluster  8 :  2\n",
      "cluster  9 :  18\n",
      "cluster  10 :  17\n",
      "cluster  11 :  0\n",
      "cluster  12 :  3\n",
      "cluster  13 :  12\n",
      "cluster  14 :  19\n",
      "cluster  15 :  0\n",
      "cluster  16 :  0\n",
      "cluster  17 :  5\n",
      "cluster  18 :  0\n",
      "cluster  19 :  0\n",
      "cluster  20 :  0\n"
     ]
    }
   ],
   "source": [
    "kclust = kcluster(data, k=20)\n",
    "for i in range(len(kclust)):\n",
    "  print (\"cluster \", i+1, \": \", len(kclust[i]))"
   ]
  },
  {
   "cell_type": "code",
   "execution_count": null,
   "metadata": {},
   "outputs": [],
   "source": []
  }
 ],
 "metadata": {
  "kernelspec": {
   "display_name": "Python 3",
   "language": "python",
   "name": "python3"
  },
  "language_info": {
   "codemirror_mode": {
    "name": "ipython",
    "version": 3
   },
   "file_extension": ".py",
   "mimetype": "text/x-python",
   "name": "python",
   "nbconvert_exporter": "python",
   "pygments_lexer": "ipython3",
   "version": "3.8.5"
  }
 },
 "nbformat": 4,
 "nbformat_minor": 4
}
