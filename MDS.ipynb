{
 "cells": [
  {
   "cell_type": "code",
   "execution_count": 1,
   "metadata": {},
   "outputs": [],
   "source": [
    "from PIL import Image, ImageDraw\n",
    "#import Image, ImageDraw\n",
    "from math import sqrt\n",
    "import random\n",
    "import csv"
   ]
  },
  {
   "cell_type": "code",
   "execution_count": 2,
   "metadata": {},
   "outputs": [],
   "source": [
    "def readfile(filename):\n",
    "    # This is a function that I wrote from scratch   -MCW\n",
    "    data = []\n",
    "    rownames = []\n",
    "    colnames = []\n",
    "    num_rows = 0\n",
    "    with open(filename) as tsvfile:\n",
    "        reader = csv.reader(tsvfile, delimiter='\\t')\n",
    "        for row in reader:\n",
    "            if num_rows > 0:\n",
    "                rownames.append(row[0])    # save the row names\n",
    "                data.append([float(x) for x in row[1:]])  # save the values as floats\n",
    "            else:\n",
    "                for col in row[1:]:\n",
    "                    colnames.append(col)    # save the column names\n",
    "            num_rows = num_rows + 1\n",
    "    return (rownames, colnames, data)"
   ]
  },
  {
   "cell_type": "code",
   "execution_count": 3,
   "metadata": {},
   "outputs": [],
   "source": [
    "def pearson(v1, v2):\n",
    "  # Simple sums\n",
    "    sum1 = sum(v1)\n",
    "    sum2 = sum(v2)\n",
    "\n",
    "  # Sums of the squares\n",
    "    sum1Sq = sum([pow(v, 2) for v in v1])\n",
    "    sum2Sq = sum([pow(v, 2) for v in v2])\n",
    "\n",
    "  # Sum of the products\n",
    "    pSum = sum([v1[i] * v2[i] for i in range(len(v1))])\n",
    "\n",
    "  # Calculate r (Pearson score)\n",
    "    num = pSum - sum1 * sum2 / len(v1)\n",
    "    den = sqrt((sum1Sq - pow(sum1, 2) / len(v1)) * (sum2Sq - pow(sum2, 2)\n",
    "               / len(v1)))\n",
    "    if den == 0:\n",
    "        return 0\n",
    "\n",
    "    return 1.0 - num / den"
   ]
  },
  {
   "cell_type": "code",
   "execution_count": 4,
   "metadata": {},
   "outputs": [],
   "source": [
    "\n",
    "def scaledown(data, distance=pearson, rate=0.01):\n",
    "    n = len(data)\n",
    "\n",
    "  # The real distances between every pair of items\n",
    "    realdist = [[distance(data[i], data[j]) for j in range(n)] for i in\n",
    "                range(0, n)]\n",
    "\n",
    "  # Randomly initialize the starting points of the locations in 2D\n",
    "    loc = [[random.random(), random.random()] for i in range(n)]\n",
    "    fakedist = [[0.0 for j in range(n)] for i in range(n)]\n",
    "\n",
    "    lasterror = None\n",
    "    for m in range(0, 1000):\n",
    "    # Find projected distances\n",
    "        for i in range(n):\n",
    "            for j in range(n):\n",
    "                fakedist[i][j] = sqrt(sum([pow(loc[i][x] - loc[j][x], 2)\n",
    "                                      for x in range(len(loc[i]))]))\n",
    "\n",
    "    # Move points\n",
    "        grad = [[0.0, 0.0] for i in range(n)]\n",
    "\n",
    "        totalerror = 0\n",
    "        for k in range(n):\n",
    "            for j in range(n):\n",
    "                if j == k:\n",
    "                    continue\n",
    "        # The error is percent difference between the distances\n",
    "                errorterm = (fakedist[j][k] - realdist[j][k]) / realdist[j][k]\n",
    "\n",
    "        # Each point needs to be moved away from or towards the other\n",
    "        # point in proportion to how much error it has\n",
    "                grad[k][0] += (loc[k][0] - loc[j][0]) / fakedist[j][k] \\\n",
    "                    * errorterm\n",
    "                grad[k][1] += (loc[k][1] - loc[j][1]) / fakedist[j][k] \\\n",
    "                    * errorterm\n",
    "\n",
    "        # Keep track of the total error\n",
    "                totalerror += abs(errorterm)\n",
    "        print (totalerror)\n",
    "\n",
    "    # If the answer got worse by moving the points, we are done\n",
    "        if lasterror and lasterror < totalerror:\n",
    "            break\n",
    "        lasterror = totalerror\n",
    "\n",
    "    # Move each of the points by the learning rate times the gradient\n",
    "        for k in range(n):\n",
    "            loc[k][0] -= rate * grad[k][0]\n",
    "            loc[k][1] -= rate * grad[k][1]\n",
    "\n",
    "    return loc"
   ]
  },
  {
   "cell_type": "code",
   "execution_count": 5,
   "metadata": {},
   "outputs": [],
   "source": [
    "def draw2d(data, labels, jpeg='mds2d.jpg'):\n",
    "    img = Image.new('RGB', (2000, 2000), (255, 255, 255))\n",
    "    draw = ImageDraw.Draw(img)\n",
    "    for i in range(len(data)):\n",
    "        x = (data[i][0] + 0.5) * 1000\n",
    "        y = (data[i][1] + 0.5) * 1000\n",
    "        draw.text((x, y), labels[i], (0, 0, 0))\n",
    "    img.save(jpeg, 'JPEG')"
   ]
  },
  {
   "cell_type": "code",
   "execution_count": 6,
   "metadata": {},
   "outputs": [],
   "source": [
    "blognames, words, data = readfile(\"tweetdata.txt\")"
   ]
  },
  {
   "cell_type": "code",
   "execution_count": 7,
   "metadata": {},
   "outputs": [
    {
     "name": "stdout",
     "output_type": "stream",
     "text": [
      "30674.053596581118\n",
      "517220.4317341033\n"
     ]
    }
   ],
   "source": [
    "coords = scaledown(data)"
   ]
  },
  {
   "cell_type": "code",
   "execution_count": 8,
   "metadata": {},
   "outputs": [],
   "source": [
    "draw2d(coords, blognames, jpeg='blogs2d.jpg')"
   ]
  }
 ],
 "metadata": {
  "kernelspec": {
   "display_name": "Python 3",
   "language": "python",
   "name": "python3"
  },
  "language_info": {
   "codemirror_mode": {
    "name": "ipython",
    "version": 3
   },
   "file_extension": ".py",
   "mimetype": "text/x-python",
   "name": "python",
   "nbconvert_exporter": "python",
   "pygments_lexer": "ipython3",
   "version": "3.8.5"
  }
 },
 "nbformat": 4,
 "nbformat_minor": 4
}
